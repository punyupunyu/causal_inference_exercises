{
 "cells": [
  {
   "cell_type": "code",
   "execution_count": 10,
   "metadata": {},
   "outputs": [],
   "source": [
    "import matplotlib.pyplot as plt\n",
    "import numpy as np\n",
    "import pandas as pd\n",
    "\n",
    "from sklearn.linear_model import LinearRegression\n",
    "from scipy import stats \n",
    "import statsmodels.api as sm\n",
    "import statsmodels.stats.api as sms\n"
   ]
  },
  {
   "cell_type": "markdown",
   "metadata": {},
   "source": [
    "Consider following data generating scheme:\n",
    "<p>\n",
    "Parameters\n",
    "<li> $N$ = sample size\n",
    "<li> $p$ = probability of treatment\n",
    "<li> $b$ = ATE (treatment effect)\n",
    "</p>\n",
    "\n",
    "<p>$Y_{pre}$ ~ Normal(1,1)</p>\n",
    "<p>$A$ ~ Bernoulli(p)</p>\n",
    "<p>$Y_{post}$ ~ Normal($b$*$A$ + $y_{pre}^2$, 1)"
   ]
  },
  {
   "cell_type": "markdown",
   "metadata": {},
   "source": [
    "Run a simulation based on the following generated data as above and estimate the treatment effects using:\n",
    "<li> Differences in means</li>\n",
    "<li> Regression controlling for y_pre</li>\n",
    "<li> CUPED controlling for y_pre</li>\n",
    "<li> Difference in differences</li>\n",
    "\n",
    "Repeat 10K times and assess bias and variance"
   ]
  },
  {
   "cell_type": "markdown",
   "metadata": {},
   "source": [
    "## Coding CUPED"
   ]
  },
  {
   "cell_type": "code",
   "execution_count": 2,
   "metadata": {},
   "outputs": [],
   "source": [
    "def cuped_adjustment(X, Y, assignment):\n",
    "    cv = np.cov(X, Y)\n",
    "    theta = cv[0,1] / cv[0,0]\n",
    "    X_mu = np.mean(X)\n",
    "    Y_cuped = Y - (X - X_mu)*theta\n",
    "    return Y_cuped\n",
    "\n",
    "# example implementation\n",
    "# https://bytepawn.com/reducing-variance-in-ab-testing-with-cuped.html"
   ]
  },
  {
   "cell_type": "code",
   "execution_count": 3,
   "metadata": {},
   "outputs": [],
   "source": [
    "def p_value(A,B):\n",
    "    return stats.ttest_ind(A, B)"
   ]
  },
  {
   "cell_type": "markdown",
   "metadata": {},
   "source": [
    "## Plot the variances & bias of each of these methodologies"
   ]
  },
  {
   "cell_type": "code",
   "execution_count": 4,
   "metadata": {},
   "outputs": [],
   "source": [
    "import itertools"
   ]
  },
  {
   "cell_type": "markdown",
   "metadata": {},
   "source": [
    "## What happens to bias and variance when assignment is correlated with pre-treatment data?"
   ]
  },
  {
   "cell_type": "code",
   "execution_count": 150,
   "metadata": {},
   "outputs": [],
   "source": [
    "p = 1/(1+np.exp(1-Y_pre))"
   ]
  },
  {
   "cell_type": "code",
   "execution_count": 5,
   "metadata": {},
   "outputs": [],
   "source": [
    "def generate_binomial(p):\n",
    "    if p < 0.5:\n",
    "        return 1\n",
    "    else:\n",
    "        return 0"
   ]
  },
  {
   "cell_type": "code",
   "execution_count": 28,
   "metadata": {},
   "outputs": [
    {
     "name": "stderr",
     "output_type": "stream",
     "text": [
      "C:\\Users\\shuan\\anaconda3\\lib\\site-packages\\statsmodels\\stats\\weightstats.py:823: RuntimeWarning: invalid value encountered in double_scalars\n",
      "  return np.sqrt(d1._var / (d1.nobs-1) + d2._var / (d2.nobs-1))\n",
      "C:\\Users\\shuan\\anaconda3\\lib\\site-packages\\statsmodels\\stats\\weightstats.py:848: RuntimeWarning: invalid value encountered in double_scalars\n",
      "  sem2 = d2._var / (d2.nobs-1)\n",
      "C:\\Users\\shuan\\anaconda3\\lib\\site-packages\\scipy\\stats\\_continuous_distns.py:5739: RuntimeWarning: invalid value encountered in greater\n",
      "  return df > 0\n"
     ]
    }
   ],
   "source": [
    "data = [20, 50, 100, 200, 500, 600, 700, 800, 900, 1000]\n",
    "p_array = [0.1, 0.5] \n",
    "b_array = [1, 101]\n",
    "\n",
    "alpha = 0.05 #power = 1-alpha\n",
    "\n",
    "# This takes a bit to run since we are running the 10*2*3*10000 times\n",
    "df = []\n",
    "for i in data:\n",
    "    for p in p_array:\n",
    "        for b in b_array:\n",
    "            for sim in range (0, 10000):\n",
    "                Y_pre = np.random.normal(1, 1, i)\n",
    "                p = 1/(1+np.exp(1-Y_pre))\n",
    "                A = np.array([generate_binomial(i) for i in p])\n",
    "    #                 A = np.random.binomial(1, p, i)\n",
    "                Y_post = A*b  - A* Y_pre + np.random.normal(0,1)\n",
    "\n",
    "                simulation = pd.DataFrame({'Y_pre':Y_pre, 'Treatment':A, 'Y_post':Y_post})\n",
    "\n",
    "                treatment = simulation[simulation['Treatment'] == 1]\n",
    "                control = simulation[simulation['Treatment'] == 0]\n",
    "\n",
    "        #         Difference in means\n",
    "                t_mu = treatment['Y_post'].mean()\n",
    "                c_mu = control['Y_post'].mean()\n",
    "                mu_diff = t_mu - c_mu\n",
    "                mean_diff_cm = sms.CompareMeans(sms.DescrStatsW(treatment['Y_post'].values), \n",
    "                                                sms.DescrStatsW(control['Y_post'].values))\n",
    "                mean_diff_conf = mean_diff_cm.tconfint_diff(usevar='unequal')\n",
    "                diff_means = {'method': 'diff_in_means',\n",
    "                                   'N': i,\n",
    "                                   'observed_treatment_effect':mu_diff,\n",
    "                                   'conf_int':mean_diff_conf,\n",
    "                             'sim_num': sim,\n",
    "                             'b': b,\n",
    "                             'p':p}\n",
    "\n",
    "                X = simulation.iloc[:, :2].values\n",
    "                Y = simulation['Y_post'].values\n",
    "\n",
    "                model_lr = sm.OLS(Y, sm.add_constant(X)).fit()\n",
    "                conf_interval = model_lr.conf_int(alpha)\n",
    "                b_conf_int = conf_interval[-1]\n",
    "\n",
    "\n",
    "                #check that coef of our treatment effect, should return  b\n",
    "                regression_data = {'method': 'regression',\n",
    "                                   'N': i,\n",
    "                                   'observed_treatment_effect':model_lr.params[-1],\n",
    "                                   'conf_int':tuple(b_conf_int),\n",
    "                             'sim_num': sim,\n",
    "                             'b': b,\n",
    "                             'p':p}\n",
    "\n",
    "\n",
    "        # #         Diff-in-diff implementation\n",
    "        #         t_pre_mu = treatment['Y_post'].mean()\n",
    "        #         c_pre_mu = control['Y_post'].mean()\n",
    "        #         t_did = t_mu - t_pre_mu\n",
    "        #         c_did = c_mu - c_pre_mu\n",
    "        #         did = c_did - t_did\n",
    "\n",
    "        #         simulation['XA'] = simulation['Treatment']*simulation['Y_pre']\n",
    "        #         model_did = LinearRegression()\n",
    "        #         X_did = simulation[['Y_pre', 'Treatment', 'XA']]\n",
    "        #         Y_did = simulation.Y_post\n",
    "        # #         X_did = sm.add_constant(X_did)\n",
    "        #         model_did = sm.OLS(Y_did,X_did).fit()\n",
    "        #         model_did.coef\n",
    "        #         conf_interval_did = model_did.conf_int(alpha)\n",
    "        #         did_conf_int = conf_interval_did[-1]\n",
    "        #         did_data = {'method': 'did',\n",
    "        #                    'N': i,\n",
    "        #                    'observed_treatment_effect':did,\n",
    "        #                    'conf_int':tuple(did_conf_int),\n",
    "        #                   'sim_num': sim}    \n",
    "\n",
    "\n",
    "            #     print(\"CUPED Adjusted Mean\")\n",
    "                Y_cuped = cuped_adjustment(X[:, 0],Y,A)\n",
    "            #     X is covariates, Y is outcome, A = assignment\n",
    "                Y_t_cuped = Y_cuped[np.where(A==1)]\n",
    "                Y_c_cuped = Y_cuped[np.where(A==0)]\n",
    "\n",
    "                t_cuped_mu = np.mean(Y_t_cuped)\n",
    "                c_cuped_mu = np.mean(Y_c_cuped)\n",
    "                diff_cuped = t_cuped_mu - c_cuped_mu\n",
    "                cm = sms.CompareMeans(sms.DescrStatsW(Y_t_cuped), sms.DescrStatsW(Y_c_cuped))\n",
    "                cuped_conf = cm.tconfint_diff(usevar='unequal')\n",
    "            #     print(cm.tconfint_diff(usevar='unequal'))\n",
    "            #     pval = p_value(Y_t_cuped, Y_c_cuped)\n",
    "            #     print(diff_cuped)\n",
    "            #     print(pval)\n",
    "            #     print(cm)\n",
    "            #     print()\n",
    "            #     build dataframe\n",
    "                cuped_data = {'method': 'cuped',\n",
    "                              'N': i,\n",
    "                              'observed_treatment_effect':diff_cuped,\n",
    "                              'conf_int':cuped_conf,\n",
    "                             'sim_num': sim,\n",
    "                             'b': b,\n",
    "                             'p':p}\n",
    "\n",
    "                df.append(diff_means)\n",
    "                df.append(regression_data)\n",
    "                df.append(cuped_data)"
   ]
  },
  {
   "cell_type": "code",
   "execution_count": null,
   "metadata": {},
   "outputs": [],
   "source": [
    "mydata = pd.DataFrame.from_dict(df)\n",
    "\n",
    "mydata['conf_low'] = mydata['conf_int'].apply(lambda x: x[0])\n",
    "mydata['conf_high'] = mydata['conf_int'].apply(lambda x: x[1])\n",
    "mydata['conf_width'] = mydata['conf_high'] - mydata['conf_low'] \n",
    "\n",
    "#write data to csv\n",
    "mydata.to_csv('data_simulation1-5.csv')"
   ]
  },
  {
   "cell_type": "code",
   "execution_count": null,
   "metadata": {},
   "outputs": [],
   "source": [
    "mydata.head()"
   ]
  },
  {
   "cell_type": "code",
   "execution_count": null,
   "metadata": {
    "scrolled": false
   },
   "outputs": [],
   "source": [
    "for p,b in itertools.product(p_array, b_array):\n",
    "    labels = []\n",
    "    x_array = []\n",
    "    y_array = []\n",
    "    fig, ax = plt.subplots(figsize=(10,5))\n",
    "    \n",
    "    for m in mydata['method'].unique():\n",
    "    #     for plot of variance we're going to get the std dev of each of the 10000 simulations for each methodology\n",
    "        x = mydata[(mydata['method'] == m) & (mydata.b == b) & (mydata.p == p)].groupby('N').mean().reset_index().N\n",
    "        y = mydata[(mydata['method'] == m) & (mydata.b == b) & (mydata.p == p)].groupby('N').mean()['observed_treatment_effect'].values\n",
    "        y_array.append(y)\n",
    "        x_array.append(x)\n",
    "        labels.append(m)\n",
    "        #     ci_low = mydata[mydata['method'] == m]['conf_low'].values\n",
    "        #     ci_high = mydata[mydata['method'] == m]['conf_high'].values\n",
    "        \n",
    "        for i in range(len(y_array)):\n",
    "            ax.plot(x_array[i], y_array[i], label=labels[i])\n",
    "        ax.legend()\n",
    "        plt.axhline(y=b, color='r', linestyle='--', alpha = 0.2)\n",
    "\n",
    "        #     ax.fill_between(x, (ci_low), (ci_high), color='b', alpha=.1)\n",
    "        ax.set_title(\"for b={}, p={}\".format(b, p))\n",
    "        ax.set_xlabel('N_size')\n",
    "        ax.set_ylabel('Avg. Obs. Diff')\n",
    "\n",
    "# mydata[mydata['method'] == 'diff_in_means'].plot(x = 'N', y = 'observed_treatment_effect')"
   ]
  },
  {
   "cell_type": "code",
   "execution_count": null,
   "metadata": {
    "scrolled": false
   },
   "outputs": [],
   "source": [
    "for p,b in itertools.product(p_array, b_array):\n",
    "    labels = []\n",
    "    x_array = []\n",
    "    y_array = []\n",
    "    fig, ax = plt.subplots(figsize=(10,5))\n",
    "    \n",
    "    for m in mydata['method'].unique():\n",
    "    #     for plot of variance we're going to get the std dev of each of the 10000 simulations for each methodology\n",
    "        x = mydata[(mydata['method'] == m) & (mydata.b == b) & (mydata.p == p)].groupby('N').mean().reset_index().N\n",
    "        y = mydata[(mydata['method'] == m) & (mydata.b == b) & (mydata.p == p)].groupby('N').agg('std')['observed_treatment_effect'].values\n",
    "        y_array.append(y)\n",
    "        x_array.append(x)\n",
    "        labels.append(m)\n",
    "        #     ci_low = mydata[mydata['method'] == m]['conf_low'].values\n",
    "        #     ci_high = mydata[mydata['method'] == m]['conf_high'].values\n",
    "    for i in range(len(y_array)):\n",
    "        ax.plot(x_array[i], y_array[i], label=labels[i])\n",
    "    ax.legend()\n",
    "    ax.set_title(\"for b={}, p={}\".format(b, p))\n",
    "    ax.set_xlabel('N_size')\n",
    "    ax.set_ylabel('Std. Dev for 10K iterations')\n",
    "\n",
    "\n",
    "# mydata[mydata['method'] == 'diff_in_means'].plot(x = 'N', y = 'observed_treatment_effect')"
   ]
  },
  {
   "cell_type": "code",
   "execution_count": null,
   "metadata": {},
   "outputs": [],
   "source": []
  }
 ],
 "metadata": {
  "kernelspec": {
   "display_name": "Python 3",
   "language": "python",
   "name": "python3"
  },
  "language_info": {
   "codemirror_mode": {
    "name": "ipython",
    "version": 3
   },
   "file_extension": ".py",
   "mimetype": "text/x-python",
   "name": "python",
   "nbconvert_exporter": "python",
   "pygments_lexer": "ipython3",
   "version": "3.7.6"
  }
 },
 "nbformat": 4,
 "nbformat_minor": 4
}
