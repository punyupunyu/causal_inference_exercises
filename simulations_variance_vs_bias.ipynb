{
 "cells": [
  {
   "cell_type": "code",
   "execution_count": 80,
   "metadata": {},
   "outputs": [],
   "source": [
    "import numpy as np\n",
    "import pandas as pd\n",
    "from sklearn.linear_model import LinearRegression\n",
    "from scipy import stats \n",
    "import statsmodels.api as sm"
   ]
  },
  {
   "cell_type": "markdown",
   "metadata": {},
   "source": [
    "Consider following data generating scheme:\n",
    "<p>\n",
    "Parameters\n",
    "<li> $N$ = sample size\n",
    "<li> $p$ = probability of treatment\n",
    "<li> $b$ = ATE (treatment effect)\n",
    "</p>\n",
    "\n",
    "<p>$Y_{pre}$ ~ Normal(1,1)</p>\n",
    "<p>$A$ ~ Bernoulli(p)</p>\n",
    "<p>$Y_{post}$ ~ Normal($b$*$A$ + $y_{pre}^2$, 1)"
   ]
  },
  {
   "cell_type": "markdown",
   "metadata": {},
   "source": [
    "Run a simulation based on the following generated data as above and estimate the treatment effects using:\n",
    "<li> Differences in means</li>\n",
    "<li> Regression controlling for y_pre</li>\n",
    "<li> CUPED controlling for y_pre</li>\n",
    "<li> Difference in differences</li>\n",
    "\n",
    "Repeat 10K times and assess bias and variance"
   ]
  },
  {
   "cell_type": "markdown",
   "metadata": {},
   "source": [
    "## Coding CUPED"
   ]
  },
  {
   "cell_type": "code",
   "execution_count": 91,
   "metadata": {},
   "outputs": [
    {
     "name": "stdout",
     "output_type": "stream",
     "text": [
      "for N = 100\n",
      "difference in means:\n",
      "5.389827067664925\n",
      "\n",
      "regression controlled treatment effect\n",
      "4.583479301850007\n",
      "[3.8094887 5.3574699]\n",
      "\n",
      "for N = 1000\n",
      "difference in means:\n",
      "4.835611758875306\n",
      "\n",
      "regression controlled treatment effect\n",
      "4.913109633558288\n",
      "[4.60343011 5.22278916]\n",
      "\n",
      "for N = 10000\n",
      "difference in means:\n",
      "4.963431657829071\n",
      "\n",
      "regression controlled treatment effect\n",
      "5.023395429382271\n",
      "[4.92940016 5.1173907 ]\n",
      "\n",
      "for N = 100000\n",
      "difference in means:\n",
      "4.996095075895667\n",
      "\n",
      "regression controlled treatment effect\n",
      "5.003154622050116\n",
      "[4.9738759  5.03243334]\n",
      "\n"
     ]
    }
   ],
   "source": [
    "data = [100, 1000, 10000, 100000]\n",
    "p = 0.1\n",
    "b = 5\n",
    "\n",
    "\n",
    "for i in data:\n",
    "    Y_pre = np.random.normal(1, 1, i)\n",
    "    A = np.random.binomial(1, p, i)\n",
    "    Y_post = A*b  + np.square(Y_pre) + np.random.normal(0,1)\n",
    "\n",
    "    simulation = pd.DataFrame({'Y_pre':Y_pre, 'Treatment':A, 'Y_post':Y_post})\n",
    "\n",
    "    treatment = simulation[simulation['Treatment'] == 1]\n",
    "    control = simulation[simulation['Treatment'] == 0]\n",
    "\n",
    "    t_mu = treatment['Y_post'].mean()\n",
    "    c_mu = control['Y_post'].mean()\n",
    "    print(\"for N = {}\".format(i))\n",
    "\n",
    "\n",
    "\n",
    "    print(\"difference in means:\")\n",
    "    mu_diff = t_mu - c_mu\n",
    "    print(mu_diff)\n",
    "    print()\n",
    "    \n",
    "    \n",
    "    alpha = 0.05\n",
    "    X = simulation.iloc[:, :2].values\n",
    "    Y = simulation['Y_post'].values\n",
    "\n",
    "    model_lr = sm.OLS(Y, sm.add_constant(X)).fit()\n",
    "    conf_interval = model_lr.conf_int(alpha)\n",
    "    b_conf_int = conf_interval[-1]\n",
    "\n",
    "    #check that coef of our treatment effect, should return  b\n",
    "#     b_hat = model.coef_[1]\n",
    "    print(\"regression controlled treatment effect\")\n",
    "#     print(model_lr.summary())\n",
    "    print(model_lr.params[-1])\n",
    "    print(b_conf_int)\n",
    "    print()\n",
    "    \n",
    "    "
   ]
  },
  {
   "cell_type": "code",
   "execution_count": 95,
   "metadata": {},
   "outputs": [],
   "source": [
    "import matplotlib.pyplot as plt"
   ]
  },
  {
   "cell_type": "code",
   "execution_count": 100,
   "metadata": {},
   "outputs": [
    {
     "data": {
      "text/plain": [
       "(array([50064.,     0.,     0.,     0.,     0.,     0.,     0.,     0.,\n",
       "            0., 49936.]),\n",
       " array([0. , 0.1, 0.2, 0.3, 0.4, 0.5, 0.6, 0.7, 0.8, 0.9, 1. ]),\n",
       " <a list of 10 Patch objects>)"
      ]
     },
     "execution_count": 100,
     "metadata": {},
     "output_type": "execute_result"
    },
    {
     "data": {
      "image/png": "[encoded data removed]",
      "text/plain": [
       "<Figure size 432x288 with 1 Axes>"
      ]
     },
     "metadata": {
      "needs_background": "light"
     },
     "output_type": "display_data"
    }
   ],
   "source": [
    "p = 1/(1 + np.exp(1 - Y_pre))\n",
    "A = np.random.binomial(1, p, i)\n",
    "plt.hist(A)"
   ]
  },
  {
   "cell_type": "code",
   "execution_count": 101,
   "metadata": {},
   "outputs": [
    {
     "data": {
      "text/plain": [
       "49936"
      ]
     },
     "execution_count": 101,
     "metadata": {},
     "output_type": "execute_result"
    }
   ],
   "source": [
    "np.sum(A)"
   ]
  },
  {
   "cell_type": "code",
   "execution_count": 102,
   "metadata": {},
   "outputs": [
    {
     "data": {
      "text/plain": [
       "100000"
      ]
     },
     "execution_count": 102,
     "metadata": {},
     "output_type": "execute_result"
    }
   ],
   "source": [
    "len(A)"
   ]
  },
  {
   "cell_type": "code",
   "execution_count": null,
   "metadata": {},
   "outputs": [],
   "source": []
  }
 ],
 "metadata": {
  "kernelspec": {
   "display_name": "Python 3",
   "language": "python",
   "name": "python3"
  },
  "language_info": {
   "codemirror_mode": {
    "name": "ipython",
    "version": 3
   },
   "file_extension": ".py",
   "mimetype": "text/x-python",
   "name": "python",
   "nbconvert_exporter": "python",
   "pygments_lexer": "ipython3",
   "version": "3.7.6"
  }
 },
 "nbformat": 4,
 "nbformat_minor": 4
}
