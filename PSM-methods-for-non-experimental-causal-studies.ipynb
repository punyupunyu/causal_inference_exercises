{
 "cells": [
  {
   "cell_type": "markdown",
   "metadata": {},
   "source": [
    "## Notebook for following along \"Propensity Score-Matching For NonExperimental Causal Studies\""
   ]
  },
  {
   "cell_type": "markdown",
   "metadata": {},
   "source": [
    "paper: https://users.nber.org/~rdehejia/papers/matching.pdf"
   ]
  },
  {
   "cell_type": "markdown",
   "metadata": {},
   "source": [
    "Dehjia and Wahba considers methodologies of causal inference and sample selection bias in non experimental setting where:\n",
    "<li> few units in the comparison groups are comparable to the treatment unit.</li>\n",
    "<li> selecting a subset of comparison units similar to the treattment units is difficult because there are many pre-treatment covariates to match on</li>\n",
    "\n",
    "<p>The paper estimates treatment effects by pairing experimental treated units with nonexperimental comparison units from CPS and PSID datasets. The authors then compare the estimated treatment effect obtained from these methods and demonstrate that these methods succeed in alleviated bias due to systematic differences between treated and original comparison units."
   ]
  },
  {
   "cell_type": "markdown",
   "metadata": {},
   "source": [
    "Some notes:\n",
    "- PSM methods are especially useful in cases of high dimensionality\n",
    "- Dehjia and Wahba methods discard unmatched comparison units and aren't used in estimating treatment impact (ATT)\n",
    "- ATE calculates the effect over all comparison units and extrapolates/smooths over all comparison units, but it is useful to know how many of the comparison units are actually similar/or comparable and how much smoothing one's estimator is performing\n",
    "- Paper talks about stratification and using binning as covariates to condition on, but that requires each bin to contain a comparison unit, which may not always be the case.\n",
    "- The more covariates you have, the more difficult it is to find an exact match for each of the treated units\n",
    "\n",
    "When matching, the following issues arise:\n",
    "- whether or not to match w/ replacement\n",
    "    - matching with replacement minimizes the propensity-score distance betweent he matched comparison/treatment unit\n",
    "    - each treatment unit can be matched to the nearest comparison unit, even if the comparison unit is matched more than once.\n",
    "    - beneficial in terms of bias reduction\n",
    "    - when matching w/out replacement, when there are few comparison units, might match treatment units to comparison units that are not actually close in terms of PS.(increases bias)\n",
    "    - matching w/out replacement also means the results are potentially sensitive to order in which the matching occurs.\n",
    "- how many comparison units to match to eac treated unit\n",
    "- which matching method to choose\n",
    "    - NN-method - select $m$ nearest comparison units whose PS are closest to treatment unit in question\n",
    "    - caliper matching - uses all comparison units w/ing a pre-defined PS radisu (\"caliper\") --> only uses"
   ]
  },
  {
   "cell_type": "markdown",
   "metadata": {},
   "source": [
    "Goal of paper is to demonstrate that PSM can identify like cohorts from non-experiment units and replicate the estimates from the original experiment results"
   ]
  },
  {
   "cell_type": "markdown",
   "metadata": {},
   "source": [
    "## Questions/Observations\n",
    "- why are the regression calculated treatment effects so different from the original NSW treatment effect?\n",
    "- The larger the $\\delta$ value for the caliper, the better the approximation (closer the number) of the treatment effect is?\n",
    "- Even with the use of calipers/NN matching w/ replacement, the comparison dataset means are still quite different than the treatment means in the original NSW data\n",
    "- PSM highlights the weakness of these \"synthetic\" control groups by showcasing how few comparable control units there are in each bin"
   ]
  },
  {
   "cell_type": "markdown",
   "metadata": {},
   "source": [
    "## Data\n",
    "Data set used is from the National Supported Work experiment. The National Supported Work (NSW) Demonstration, a\n",
    "labor market experiment in which participants were randomized between treatment (on-the-job training lasting between nine months and a year) and control groups"
   ]
  },
  {
   "cell_type": "markdown",
   "metadata": {},
   "source": [
    "## Paper methodology discussion"
   ]
  },
  {
   "cell_type": "code",
   "execution_count": 1,
   "metadata": {},
   "outputs": [],
   "source": [
    "import pandas as pd\n",
    "import numpy as np"
   ]
  },
  {
   "cell_type": "code",
   "execution_count": null,
   "metadata": {},
   "outputs": [],
   "source": []
  }
 ],
 "metadata": {
  "kernelspec": {
   "display_name": "Python 3",
   "language": "python",
   "name": "python3"
  },
  "language_info": {
   "codemirror_mode": {
    "name": "ipython",
    "version": 3
   },
   "file_extension": ".py",
   "mimetype": "text/x-python",
   "name": "python",
   "nbconvert_exporter": "python",
   "pygments_lexer": "ipython3",
   "version": "3.7.6"
  }
 },
 "nbformat": 4,
 "nbformat_minor": 4
}
